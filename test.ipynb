{
 "cells": [
  {
   "cell_type": "code",
   "execution_count": 1,
   "id": "e270ce66",
   "metadata": {},
   "outputs": [],
   "source": [
    "import numpy as np\n",
    "from transformers import BertTokenizer, AutoModel\n",
    "import torch\n",
    "import datasets\n",
    "import os\n",
    "\n",
    "TOKENIZER_CACHE_DIR = 'cache/bert-tokenizer'\n",
    "MODEL_CACHE_DIR = 'cache/pretrained_model'\n",
    "tokenizer = BertTokenizer.from_pretrained('cache/bert-tokenizer')"
   ]
  },
  {
   "cell_type": "code",
   "execution_count": 3,
   "id": "9bd1c53e",
   "metadata": {},
   "outputs": [
    {
     "data": {
      "text/plain": [
       "tensor([[1., 1.]])"
      ]
     },
     "execution_count": 3,
     "metadata": {},
     "output_type": "execute_result"
    }
   ],
   "source": [
    "torch.ones((1,2))"
   ]
  },
  {
   "cell_type": "code",
   "execution_count": 10,
   "id": "93b000f3",
   "metadata": {},
   "outputs": [
    {
     "data": {
      "text/plain": [
       "dict_keys(['input_ids', 'token_type_ids', 'attention_mask'])"
      ]
     },
     "execution_count": 10,
     "metadata": {},
     "output_type": "execute_result"
    }
   ],
   "source": [
    "encoding.keys()"
   ]
  },
  {
   "cell_type": "code",
   "execution_count": 12,
   "id": "1ed90262",
   "metadata": {},
   "outputs": [
    {
     "data": {
      "text/plain": [
       "torch.Size([2, 8])"
      ]
     },
     "execution_count": 12,
     "metadata": {},
     "output_type": "execute_result"
    }
   ],
   "source": [
    "encoding['input_ids'].shape"
   ]
  },
  {
   "cell_type": "code",
   "execution_count": null,
   "id": "5308bd31",
   "metadata": {},
   "outputs": [],
   "source": [
    "ses = \"窗前明月光，\"\n",
    "while ses != '0':\n",
    "    encoding = tokenizer(f'{ses}', return_tensors='pt', padding=False, truncation=True).to(device) #(bs, sl)\n",
    "    # 需要把toenizer后面添加的特殊Token [SEP] 去掉\n",
    "    token_ids, generated_output = model.generate_top_k(encoding['input_ids'][:, :-1],temperature=args.temperature,k_size=10)\n",
    "    print(f'{generated_output}\\n\\n')\n",
    "    ses = input(\"请输入要预测的诗句，输入0退出\\n\")"
   ]
  },
  {
   "cell_type": "code",
   "execution_count": 22,
   "id": "67d71464",
   "metadata": {},
   "outputs": [],
   "source": [
    "AutoModel.from_pretrained('uer/gpt2-chinese-cluecorpussmall').save_pretrained(MODEL_CACHE_DIR)"
   ]
  }
 ],
 "metadata": {
  "kernelspec": {
   "display_name": "poem-generate",
   "language": "python",
   "name": "python3"
  },
  "language_info": {
   "codemirror_mode": {
    "name": "ipython",
    "version": 3
   },
   "file_extension": ".py",
   "mimetype": "text/x-python",
   "name": "python",
   "nbconvert_exporter": "python",
   "pygments_lexer": "ipython3",
   "version": "3.10.16"
  }
 },
 "nbformat": 4,
 "nbformat_minor": 5
}
