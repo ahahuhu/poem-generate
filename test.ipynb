{
 "cells": [
  {
   "cell_type": "code",
   "execution_count": 1,
   "id": "e270ce66",
   "metadata": {},
   "outputs": [],
   "source": [
    "import numpy as np\n",
    "from transformers import BertTokenizer, AutoModel\n",
    "import torch\n",
    "import datasets"
   ]
  },
  {
   "cell_type": "code",
   "execution_count": 5,
   "id": "9bd1c53e",
   "metadata": {},
   "outputs": [],
   "source": [
    "tokenizer = BertTokenizer.from_pretrained(\"uer/gpt2-chinese-cluecorpussmall\", cache_dir='cache/bert-tokenizer', local_files_only=True)"
   ]
  },
  {
   "cell_type": "markdown",
   "id": "fe3d455d",
   "metadata": {},
   "source": [
    "### 报错原因与解决方法\n",
    "\n",
    "1. **报错原因**：\n",
    "- `tqdm.notebook` 依赖于 `ipywidgets` 和 `IProgress`，如果缺失或版本不兼容，会导致 AttributeError 或 ImportError。\n",
    "- 你的环境缺少 `ipywidgets` 或 `IProgress`，或 Jupyter 版本较低。\n",
    "\n",
    "2. **解决方法**：\n",
    "- 在终端执行以下命令升级相关依赖：\n",
    "  ```bash\n",
    "  pip install --upgrade jupyter ipywidgets\n",
    "  jupyter nbextension enable --py widgetsnbextension\n",
    "  ```\n",
    "- 重启 Jupyter Notebook。\n",
    "\n",
    "3. **参考链接**：\n",
    "- [ipywidgets官方安装文档](https://ipywidgets.readthedocs.io/en/stable/user_install.html)"
   ]
  }
 ],
 "metadata": {
  "kernelspec": {
   "display_name": "nlp34",
   "language": "python",
   "name": "python3"
  },
  "language_info": {
   "codemirror_mode": {
    "name": "ipython",
    "version": 3
   },
   "file_extension": ".py",
   "mimetype": "text/x-python",
   "name": "python",
   "nbconvert_exporter": "python",
   "pygments_lexer": "ipython3",
   "version": "3.9.11"
  }
 },
 "nbformat": 4,
 "nbformat_minor": 5
}
