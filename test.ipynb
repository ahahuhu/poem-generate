{
 "cells": [
  {
   "cell_type": "code",
   "execution_count": null,
   "id": "e270ce66",
   "metadata": {},
   "outputs": [],
   "source": [
    "import numpy as np\n",
    "from transformers import BertTokenizer, AutoModel\n",
    "import torch\n",
    "import datasets\n",
    "import os\n",
    "\n",
    "TOKENIZER_CACHE_DIR = 'cache/bert-tokenizer'\n",
    "MODEL_CACHE_DIR = 'cache/pretrained_model'"
   ]
  },
  {
   "cell_type": "code",
   "execution_count": 18,
   "id": "9bd1c53e",
   "metadata": {},
   "outputs": [
    {
     "data": {
      "text/plain": [
       "('cache/bert-tokenizer/tokenizer_config.json',\n",
       " 'cache/bert-tokenizer/special_tokens_map.json',\n",
       " 'cache/bert-tokenizer/vocab.txt',\n",
       " 'cache/bert-tokenizer/added_tokens.json')"
      ]
     },
     "execution_count": 18,
     "metadata": {},
     "output_type": "execute_result"
    }
   ],
   "source": [
    "BertTokenizer.from_pretrained('uer/gpt2-chinese-cluecorpussmall').save_pretrained(TOKENIZER_CACHE_DIR)"
   ]
  },
  {
   "cell_type": "code",
   "execution_count": 22,
   "id": "67d71464",
   "metadata": {},
   "outputs": [],
   "source": [
    "AutoModel.from_pretrained('uer/gpt2-chinese-cluecorpussmall').save_pretrained(MODEL_CACHE_DIR)"
   ]
  }
 ],
 "metadata": {
  "kernelspec": {
   "display_name": "nlp34",
   "language": "python",
   "name": "python3"
  },
  "language_info": {
   "codemirror_mode": {
    "name": "ipython",
    "version": 3
   },
   "file_extension": ".py",
   "mimetype": "text/x-python",
   "name": "python",
   "nbconvert_exporter": "python",
   "pygments_lexer": "ipython3",
   "version": "3.9.11"
  }
 },
 "nbformat": 4,
 "nbformat_minor": 5
}
