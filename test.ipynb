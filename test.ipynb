{
 "cells": [
  {
   "cell_type": "code",
   "execution_count": null,
   "id": "e270ce66",
   "metadata": {},
   "outputs": [],
   "source": [
    "import numpy as np\n",
    "from transformers import BertTokenizer, AutoModel\n",
    "import torch\n",
    "import datasets\n",
    "import os\n",
    "import argparse\n",
    "from datasets import PoemDataset\n",
    "from model.gpt2 import GPT2Model, GPT2Config"
   ]
  },
  {
   "cell_type": "code",
   "execution_count": 5,
   "id": "11d5a2dd",
   "metadata": {},
   "outputs": [
    {
     "name": "stdout",
     "output_type": "stream",
     "text": [
      "度门能不访，冒雪屡西东。已想人如玉，遥怜马似骢。乍迷金谷路，稍变上阳宫。还比相思意，纷纷正满空。\n",
      "5度冒已遥乍稍还纷->度门能不访，冒雪屡西东。已想人如玉，遥怜马似骢。乍迷金谷路，稍变上阳宫。还比相思意，纷纷正满空。\n"
     ]
    }
   ],
   "source": [
    "t1 = np.load(\"data/clear_data.npy\")\n",
    "t2 = np.load(\"data/hidden_poems.npy\")\n",
    "print(t1[0])\n",
    "print(t2[0])\n",
    "def get_tokenizer(args):\n",
    "    if not os.path.exists(args.tokenizer_dir):\n",
    "        os.makedirs(args.tokenizer_dir, exist_ok=True)\n",
    "        BertTokenizer.from_pretrained(args.model_name).save_pretrained(args.tokenizer_dir)\n",
    "    tokenizer = BertTokenizer.from_pretrained(args.tokenizer_dir, local_files_only=True)\n",
    "    return tokenizer"
   ]
  },
  {
   "cell_type": "code",
   "execution_count": 16,
   "id": "4fa9f6ec",
   "metadata": {},
   "outputs": [],
   "source": [
    "poem_dataset = PoemDataset(\"data/hidden_poems.npy\", BertTokenizer.from_pretrained(\"cache/bert-tokenizer\", local_files_only=True))\n",
    "tokenizer = BertTokenizer.from_pretrained(\"cache/bert-tokenizer\", local_files_only=True)"
   ]
  },
  {
   "cell_type": "code",
   "execution_count": 11,
   "id": "2439fbc7",
   "metadata": {},
   "outputs": [],
   "source": [
    "poem_dataloader = torch.utils.data.DataLoader(poem_dataset, shuffle=True, batch_size=32, collate_fn=poem_dataset.collate_fn)"
   ]
  },
  {
   "cell_type": "code",
   "execution_count": 22,
   "id": "6067b013",
   "metadata": {},
   "outputs": [],
   "source": [
    "t = next(iter(poem_dataloader))['token_ids']"
   ]
  },
  {
   "cell_type": "code",
   "execution_count": 26,
   "id": "0855e0b7",
   "metadata": {},
   "outputs": [
    {
     "data": {
      "text/plain": [
       "'[CLS]7树旧鼠草迹罪伤犹->树色川光向晚晴，旧曾游处事分明。鼠穿月榭荆榛合，草掩花园畦[UNK]平。迹陷黄沙仍未[UNK]，罪标青简竟何名。伤心谷口东流水，犹喷当时寒玉声。[SEP][PAD][PAD][PAD][PAD][PAD][PAD][PAD][PAD][PAD][PAD][PAD][PAD][PAD][PAD][PAD][PAD][PAD][PAD][PAD][PAD][PAD][PAD][PAD][PAD][PAD][PAD][PAD][PAD][PAD][PAD][PAD][PAD][PAD][PAD][PAD][PAD][PAD][PAD][PAD][PAD][PAD][PAD][PAD][PAD][PAD][PAD][PAD][PAD][PAD][PAD][PAD][PAD][PAD][PAD][PAD][PAD][PAD][PAD][PAD][PAD][PAD][PAD][PAD][PAD][PAD][PAD][PAD][PAD]'"
      ]
     },
     "execution_count": 26,
     "metadata": {},
     "output_type": "execute_result"
    }
   ],
   "source": [
    "\"\".join(tokenizer.convert_ids_to_tokens(t[2]))"
   ]
  },
  {
   "cell_type": "code",
   "execution_count": null,
   "id": "1f669c30",
   "metadata": {},
   "outputs": [],
   "source": [
    "torch.zeros(3, 5)"
   ]
  },
  {
   "cell_type": "code",
   "execution_count": null,
   "id": "be03f924",
   "metadata": {},
   "outputs": [],
   "source": [
    "for name in our_model.named_children():\n",
    "    print(name)"
   ]
  },
  {
   "cell_type": "code",
   "execution_count": 4,
   "id": "4ef0857c",
   "metadata": {},
   "outputs": [
    {
     "name": "stdout",
     "output_type": "stream",
     "text": [
      "Input tensor shape: torch.Size([8, 86, 768])\n",
      "Linear weight shape: torch.Size([2304, 768])\n",
      "LoRA A shape: torch.Size([4, 768])\n",
      "LoRA B shape: torch.Size([2304, 4])\n",
      "Output shape: torch.Size([8, 86, 2304])\n",
      "Linear output shape: torch.Size([8, 86, 2304])\n",
      "lora_A_proj shape: torch.Size([8, 86, 4])\n"
     ]
    },
    {
     "ename": "RuntimeError",
     "evalue": "mat1 and mat2 shapes cannot be multiplied (688x4 and 768x4)",
     "output_type": "error",
     "traceback": [
      "\u001b[0;31m---------------------------------------------------------------------------\u001b[0m",
      "\u001b[0;31mRuntimeError\u001b[0m                              Traceback (most recent call last)",
      "Cell \u001b[0;32mIn[4], line 31\u001b[0m\n\u001b[1;32m     28\u001b[0m lora_A_proj \u001b[38;5;241m=\u001b[39m torch\u001b[38;5;241m.\u001b[39mmatmul(input_tensor, lora_layer\u001b[38;5;241m.\u001b[39mlora_A\u001b[38;5;241m.\u001b[39mT)\n\u001b[1;32m     29\u001b[0m \u001b[38;5;28mprint\u001b[39m(\u001b[38;5;124mf\u001b[39m\u001b[38;5;124m\"\u001b[39m\u001b[38;5;124mlora_A_proj shape: \u001b[39m\u001b[38;5;132;01m{\u001b[39;00mlora_A_proj\u001b[38;5;241m.\u001b[39mshape\u001b[38;5;132;01m}\u001b[39;00m\u001b[38;5;124m\"\u001b[39m)\n\u001b[0;32m---> 31\u001b[0m lora_output \u001b[38;5;241m=\u001b[39m \u001b[43mtorch\u001b[49m\u001b[38;5;241;43m.\u001b[39;49m\u001b[43mmatmul\u001b[49m\u001b[43m(\u001b[49m\u001b[43mlora_A_proj\u001b[49m\u001b[43m,\u001b[49m\u001b[43m \u001b[49m\u001b[43mlora_layer\u001b[49m\u001b[38;5;241;43m.\u001b[39;49m\u001b[43mlora_A\u001b[49m\u001b[38;5;241;43m.\u001b[39;49m\u001b[43mT\u001b[49m\u001b[43m)\u001b[49m \u001b[38;5;241m*\u001b[39m lora_layer\u001b[38;5;241m.\u001b[39mscaling\n\u001b[1;32m     32\u001b[0m \u001b[38;5;28mprint\u001b[39m(\u001b[38;5;124mf\u001b[39m\u001b[38;5;124m\"\u001b[39m\u001b[38;5;124mlora_output shape: \u001b[39m\u001b[38;5;132;01m{\u001b[39;00mlora_output\u001b[38;5;241m.\u001b[39mshape\u001b[38;5;132;01m}\u001b[39;00m\u001b[38;5;124m\"\u001b[39m)\n",
      "\u001b[0;31mRuntimeError\u001b[0m: mat1 and mat2 shapes cannot be multiplied (688x4 and 768x4)"
     ]
    }
   ],
   "source": [
    "# Test the LoRA functionality to diagnose the issue\n",
    "from modules.lora_linear import LoRALinear\n",
    "\n",
    "# Create test tensors with shapes from our error case\n",
    "in_features = 768\n",
    "out_features = 2304\n",
    "batch_size = 8\n",
    "seq_len = 86\n",
    "\n",
    "# Test LoRALinear with use_lora=True\n",
    "lora_layer = LoRALinear(in_features, out_features, r=4, use_lora=True)\n",
    "input_tensor = torch.randn(batch_size, seq_len, in_features)\n",
    "\n",
    "# Check shapes before forward pass\n",
    "print(f\"Input tensor shape: {input_tensor.shape}\")\n",
    "print(f\"Linear weight shape: {lora_layer.linear.weight.shape}\")\n",
    "print(f\"LoRA A shape: {lora_layer.lora_A.shape}\")\n",
    "print(f\"LoRA B shape: {lora_layer.lora_B.shape}\")\n",
    "\n",
    "# Run forward pass\n",
    "output = lora_layer(input_tensor)\n",
    "print(f\"Output shape: {output.shape}\")\n",
    "\n",
    "# Verify shapes manually\n",
    "linear_output = lora_layer.linear(input_tensor)\n",
    "print(f\"Linear output shape: {linear_output.shape}\")\n",
    "\n",
    "lora_A_proj = torch.matmul(input_tensor, lora_layer.lora_A.T)\n",
    "print(f\"lora_A_proj shape: {lora_A_proj.shape}\")\n",
    "\n",
    "lora_output = torch.matmul(lora_A_proj, lora_layer.lora_B.T) * lora_layer.scaling\n",
    "print(f\"lora_output shape: {lora_output.shape}\")"
   ]
  }
 ],
 "metadata": {
  "kernelspec": {
   "display_name": "poem-generate",
   "language": "python",
   "name": "python3"
  },
  "language_info": {
   "codemirror_mode": {
    "name": "ipython",
    "version": 3
   },
   "file_extension": ".py",
   "mimetype": "text/x-python",
   "name": "python",
   "nbconvert_exporter": "python",
   "pygments_lexer": "ipython3",
   "version": "3.10.16"
  }
 },
 "nbformat": 4,
 "nbformat_minor": 5
}
