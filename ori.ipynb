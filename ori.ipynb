{
 "cells": [
  {
   "cell_type": "code",
   "execution_count": 2,
   "id": "dcad2091",
   "metadata": {},
   "outputs": [],
   "source": [
    "import numpy as np\n",
    "\n",
    "import torch\n",
    "import torch.nn.functional as F\n",
    "import torch.nn as nn\n",
    "from torch.utils.data import DataLoader,Dataset\n",
    "import torch\n",
    "import torch.optim as optim\n",
    "import os\n",
    "import time"
   ]
  },
  {
   "cell_type": "code",
   "execution_count": 3,
   "id": "b462f532",
   "metadata": {},
   "outputs": [],
   "source": [
    "EPOCHES = 100\n",
    "LEARNING_RATE = 0.001\n",
    "RES_FILE = \"result.txt\""
   ]
  },
  {
   "cell_type": "code",
   "execution_count": 4,
   "id": "8fc24ae1",
   "metadata": {},
   "outputs": [
    {
     "data": {
      "text/plain": [
       "['ix2word', 'word2ix', 'data']"
      ]
     },
     "execution_count": 4,
     "metadata": {},
     "output_type": "execute_result"
    }
   ],
   "source": [
    "tang_file = np.load(\"tang.npz\",allow_pickle=True)\n",
    "tang_file.files"
   ]
  },
  {
   "cell_type": "code",
   "execution_count": 5,
   "id": "59b1908f",
   "metadata": {},
   "outputs": [],
   "source": [
    "data = tang_file['data']\n",
    "word2ix = tang_file['word2ix'].item()\n",
    "idx2word = tang_file['ix2word'].item()"
   ]
  },
  {
   "cell_type": "code",
   "execution_count": 6,
   "id": "5d5777b7",
   "metadata": {},
   "outputs": [
    {
     "data": {
      "text/plain": [
       "array([8292, 8292, 8292, 8292, 8292, 8292, 8292, 8292, 8292, 8292, 8292,\n",
       "       8292, 8292, 8292, 8292, 8292, 8292, 8292, 8292, 8292, 8292, 8292,\n",
       "       8292, 8292, 8292, 8292, 8292, 8292, 8292, 8292, 8292, 8292, 8292,\n",
       "       8292, 8292, 8292, 8292, 8292, 8292, 8292, 8292, 8292, 8292, 8292,\n",
       "       8292, 8292, 8292, 8292, 8292, 8292, 8292, 8292, 8292, 8292, 8292,\n",
       "       8292, 8292, 8292, 8292, 8292, 8292, 8292, 8292, 8292, 8292, 8292,\n",
       "       8292, 8292, 8292, 8292, 8292, 8292, 8292, 8292, 8292, 8292, 8292,\n",
       "       8292, 8292, 8292, 8292, 8292, 8292, 8292, 8292, 8292, 8292, 8292,\n",
       "       8292, 8292, 8292, 8292, 8292, 8292, 8292, 8292, 8292, 8292, 8292,\n",
       "       8291, 3198, 5409, 7440, 7686, 3655, 7066, 2354, 1059, 3015, 2417,\n",
       "       8004, 7435, 8118, 4662, 2260, 1252, 8150, 7066, 2110, 2110, 7477,\n",
       "       8173, 1418, 7435, 8290], dtype=int32)"
      ]
     },
     "execution_count": 6,
     "metadata": {},
     "output_type": "execute_result"
    }
   ],
   "source": [
    "data[314]"
   ]
  },
  {
   "cell_type": "code",
   "execution_count": 7,
   "id": "20f76023",
   "metadata": {},
   "outputs": [
    {
     "name": "stdout",
     "output_type": "stream",
     "text": [
      "</s></s></s></s></s></s></s></s></s></s></s></s></s></s></s></s></s></s></s></s></s></s></s></s></s></s></s></s></s></s></s></s></s></s></s></s></s></s></s></s></s></s></s></s></s></s></s></s></s></s></s></s></s></s></s></s></s></s></s></s></s></s></s></s></s></s></s></s></s></s></s></s></s></s></s></s></s></s></s></s></s></s></s></s></s></s></s></s></s></s></s></s></s></s></s></s></s></s></s><START>南楼夜已寂，暗鸟动林间。不见城郭事，沈沈唯四山。<EOP>\n",
      "8292\n"
     ]
    },
    {
     "data": {
      "text/plain": [
       "(array([8291, 6731, 4770, 1787, 8118, 7577, 7066, 4817,  648, 7121, 1542,\n",
       "        6483, 7435, 7686, 2889, 1671, 5862, 1949, 7066, 2596, 4785, 3629,\n",
       "        1379, 2703, 7435, 6064, 6041, 4666, 4038, 4881, 7066, 4747, 1534,\n",
       "          70, 3788, 3823, 7435, 4907, 5567,  201, 2834, 1519, 7066,  782,\n",
       "         782, 2063, 2031,  846, 7435, 8290], dtype=int32),\n",
       " '<START>度门能不访，冒雪屡西东。已想人如玉，遥怜马似骢。乍迷金谷路，稍变上阳宫。还比相思意，纷纷正满空。<EOP>',\n",
       " 8293)"
      ]
     },
     "execution_count": 7,
     "metadata": {},
     "output_type": "execute_result"
    }
   ],
   "source": [
    "def idx2poem(idx_poem):\n",
    "    poem = []\n",
    "    for id in idx_poem:\n",
    "        poem.append(idx2word[id])\n",
    "    return \"\".join(poem)\n",
    "\n",
    "print(idx2poem(data[314]))\n",
    "\n",
    "print(word2ix[\"</s>\"])\n",
    "\n",
    "poems = [] #里面有很多首诗的input_ids(诗的总数, 每一首诗的长度)\n",
    "for poem in data:\n",
    "    for index,ix in enumerate(poem):\n",
    "        if ix == word2ix[\"</s>\"]:\n",
    "            continue\n",
    "        else:\n",
    "            break\n",
    "    poems.append(poem[index:])\n",
    "\n",
    "# del data\n",
    "poems[0],idx2poem(poems[0]),len(idx2word)"
   ]
  },
  {
   "cell_type": "code",
   "execution_count": 8,
   "id": "761ea6fb",
   "metadata": {},
   "outputs": [],
   "source": [
    "seq_len = 48\n",
    "X = []\n",
    "Y = []\n",
    "poems_data = [j for i in poems for j in i]\n",
    "\n",
    "# 构造训练数据， 把每一首诗歌flatten，构造X，及其下一个字的预判Y\n",
    "for i in range(0,len(poems_data) - seq_len -1,seq_len):\n",
    "    X.append(poems_data[i:i+seq_len])\n",
    "    Y.append(poems_data[i+1:i+seq_len+1])"
   ]
  },
  {
   "cell_type": "code",
   "execution_count": 9,
   "id": "525528a5",
   "metadata": {},
   "outputs": [],
   "source": [
    "class PoemDataset(Dataset):\n",
    "\n",
    "    def __init__(self,X,Y):\n",
    "        self.X = X\n",
    "        self.Y = Y\n",
    "        self.len = len(X)\n",
    "    def __getitem__(self,index):\n",
    "        x = np.array(X[index])\n",
    "        y = np.array(Y[index])\n",
    "        return torch.from_numpy(x).long(),torch.from_numpy(y).long()\n",
    "    def __len__(self):\n",
    "        return self.len\n",
    "        \n",
    "data_loader = DataLoader(PoemDataset(X,Y),batch_size=512,num_workers=2)"
   ]
  },
  {
   "cell_type": "code",
   "execution_count": 10,
   "id": "d2edfd6c",
   "metadata": {},
   "outputs": [
    {
     "data": {
      "text/plain": [
       "(torch.Size([512, 48]), torch.Size([512, 48]))"
      ]
     },
     "execution_count": 10,
     "metadata": {},
     "output_type": "execute_result"
    }
   ],
   "source": [
    "a,b = next(iter(data_loader))\n",
    "# (bs,sl)\n",
    "a.shape,b.shape"
   ]
  },
  {
   "cell_type": "code",
   "execution_count": 13,
   "id": "1e3bb89d",
   "metadata": {},
   "outputs": [
    {
     "name": "stdout",
     "output_type": "stream",
     "text": [
      "Epoch [1/100], Batch [10/128], Loss: 7.2928, Acc: 0.0355\n",
      "Epoch [1/100], Batch [20/128], Loss: 7.2397, Acc: 0.1263\n",
      "Epoch [1/100], Batch [20/128], Loss: 7.2397, Acc: 0.1263\n",
      "Epoch [1/100], Batch [30/128], Loss: 6.4849, Acc: 0.1124\n",
      "Epoch [1/100], Batch [30/128], Loss: 6.4849, Acc: 0.1124\n",
      "Epoch [1/100], Batch [40/128], Loss: 6.4905, Acc: 0.1202\n",
      "Epoch [1/100], Batch [40/128], Loss: 6.4905, Acc: 0.1202\n",
      "Epoch [1/100], Batch [50/128], Loss: 6.2891, Acc: 0.1582\n",
      "Epoch [1/100], Batch [50/128], Loss: 6.2891, Acc: 0.1582\n",
      "Epoch [1/100], Batch [60/128], Loss: 6.3361, Acc: 0.1746\n",
      "Epoch [1/100], Batch [60/128], Loss: 6.3361, Acc: 0.1746\n",
      "Epoch [1/100], Batch [70/128], Loss: 6.2342, Acc: 0.1696\n",
      "Epoch [1/100], Batch [70/128], Loss: 6.2342, Acc: 0.1696\n",
      "Epoch [1/100], Batch [80/128], Loss: 6.2127, Acc: 0.1646\n",
      "Epoch [1/100], Batch [80/128], Loss: 6.2127, Acc: 0.1646\n",
      "Epoch [1/100], Batch [90/128], Loss: 6.2859, Acc: 0.1696\n",
      "Epoch [1/100], Batch [90/128], Loss: 6.2859, Acc: 0.1696\n",
      "Epoch [1/100], Batch [100/128], Loss: 6.0772, Acc: 0.1837\n",
      "Epoch [1/100], Batch [100/128], Loss: 6.0772, Acc: 0.1837\n",
      "Epoch [1/100], Batch [110/128], Loss: 5.8107, Acc: 0.1830\n",
      "Epoch [1/100], Batch [110/128], Loss: 5.8107, Acc: 0.1830\n",
      "Epoch [1/100], Batch [120/128], Loss: 5.9275, Acc: 0.1909\n",
      "Epoch [1/100], Batch [120/128], Loss: 5.9275, Acc: 0.1909\n",
      "Epoch 1/100 - Loss: 6.4818, Accuracy: 0.1459\n",
      "Avg loss so far: 6.4818, Avg accuracy so far: 0.1459\n",
      "Epoch 1/100 - Loss: 6.4818, Accuracy: 0.1459\n",
      "Avg loss so far: 6.4818, Avg accuracy so far: 0.1459\n",
      "Epoch [2/100], Batch [10/128], Loss: 6.0958, Acc: 0.1798\n",
      "Epoch [2/100], Batch [10/128], Loss: 6.0958, Acc: 0.1798\n"
     ]
    },
    {
     "ename": "KeyboardInterrupt",
     "evalue": "",
     "output_type": "error",
     "traceback": [
      "\u001b[0;31m---------------------------------------------------------------------------\u001b[0m",
      "\u001b[0;31mKeyboardInterrupt\u001b[0m                         Traceback (most recent call last)",
      "Cell \u001b[0;32mIn[13], line 86\u001b[0m\n\u001b[1;32m     83\u001b[0m optimzer\u001b[38;5;241m.\u001b[39mstep()\n\u001b[1;32m     85\u001b[0m \u001b[38;5;66;03m# 计算当前批次的损失和准确率\u001b[39;00m\n\u001b[0;32m---> 86\u001b[0m batch_loss \u001b[38;5;241m=\u001b[39m \u001b[43mloss\u001b[49m\u001b[38;5;241;43m.\u001b[39;49m\u001b[43mitem\u001b[49m\u001b[43m(\u001b[49m\u001b[43m)\u001b[49m \u001b[38;5;241m*\u001b[39m batch_size \u001b[38;5;241m*\u001b[39m seq_len\n\u001b[1;32m     87\u001b[0m batch_correct \u001b[38;5;241m=\u001b[39m (torch\u001b[38;5;241m.\u001b[39margmax(logits, dim\u001b[38;5;241m=\u001b[39m\u001b[38;5;241m-\u001b[39m\u001b[38;5;241m1\u001b[39m) \u001b[38;5;241m==\u001b[39m target)\u001b[38;5;241m.\u001b[39msum()\u001b[38;5;241m.\u001b[39mitem()\n\u001b[1;32m     89\u001b[0m \u001b[38;5;66;03m# 累加到epoch总量中\u001b[39;00m\n",
      "\u001b[0;31mKeyboardInterrupt\u001b[0m: "
     ]
    }
   ],
   "source": [
    "class PoemNet(nn.Module):\n",
    "    def __init__(self, vocab_size, embedding_dim, hidden_dim):\n",
    "        \"\"\"\n",
    "            vocab_size：训练集合字典大小（8293）\n",
    "            embedding_dim：word2vec的维度\n",
    "            hidden_dim：LSTM的hidden_dim\n",
    "        \"\"\"\n",
    "        super(PoemNet, self).__init__()\n",
    "        #请从这儿开始补充代码\n",
    "        #定义LSTM模型，模型结构见文档最后部分\n",
    "        self.embeddings = nn.Embedding(num_embeddings=vocab_size,\n",
    "                                      embedding_dim=embedding_dim)\n",
    "        self.lstm = nn.LSTM(input_size=embedding_dim,\n",
    "                            hidden_size=hidden_dim,\n",
    "                            batch_first=True)\n",
    "        self.fc = nn.Sequential(\n",
    "            nn.Linear(in_features=hidden_dim, out_features=hidden_dim*2,bias=True),\n",
    "            nn.ReLU(),\n",
    "            nn.Dropout(p=0.25, inplace=False),\n",
    "            nn.Linear(hidden_dim*2, hidden_dim*4, bias=True),\n",
    "            nn.Dropout(p=0.2, inplace=False),\n",
    "            nn.ReLU(),\n",
    "            nn.Linear(hidden_dim*4, vocab_size, bias=True)\n",
    "        )\n",
    "        #补充代码结束\n",
    "\n",
    "    def forward(self, input, hidden=None):\n",
    "        \"\"\"\n",
    "            input：输入的诗词\n",
    "            hidden：在生成诗词的时候需要使用，在pytorch中，如果不指定初始状态h_0和C_0，则其\n",
    "            默认为0. 用来作为lstm的初始状态\n",
    "            pytorch的LSTM的输出是(output,(h_n,c_n))。实际上，output就是h_1,h_2,……h_n\n",
    "        \"\"\"\n",
    "        #请从这儿开始补充代码\n",
    "        #定义LSTM模型的前向传播过程\n",
    "        embedding_hiddens = self.embeddings(input)\n",
    "        output, hidden = self.lstm(embedding_hiddens, hidden)\n",
    "        output = self.fc(output) # (bs, sl, vocab_size)\n",
    "        #补充代码结束\n",
    "        return output,hidden\n",
    "\n",
    "vocab_size = len(word2ix.keys()) # 8293\n",
    "embedding_dim = 200\n",
    "hidden_dim = 1024\n",
    "\n",
    "device = torch.device(\"cuda:0\" if torch.cuda.is_available() else \"cpu\")\n",
    "my_net = PoemNet(vocab_size,embedding_dim,hidden_dim).to(device)\n",
    "\n",
    "optimzer = optim.Adam(my_net.parameters(),lr=LEARNING_RATE)\n",
    "loss_function = nn.CrossEntropyLoss()\n",
    "\n",
    "with open(RES_FILE, mode='w') as f:\n",
    "    f.write(f'训练日期:{time.time()}\\n训练轮数{EPOCHES}\\n学习率:{LEARNING_RATE}')\n",
    "\n",
    "total_loss = 0\n",
    "total_acc = 0\n",
    "\n",
    "for epoch in range(EPOCHES):\n",
    "    my_net.train()\n",
    "    epoch_loss = 0.0\n",
    "    epoch_acc = 0\n",
    "    samples_count = 0\n",
    "    hidden = None\n",
    "    \n",
    "    for i, data in enumerate(data_loader):\n",
    "        # 训练LSTM，计算并输出Loss\n",
    "        inputs, targets = data[0].to(device), data[1].to(device)\n",
    "        batch_size = inputs.size(0)\n",
    "        samples_count += batch_size * seq_len  # 计算样本总数\n",
    "        \n",
    "        optimzer.zero_grad()\n",
    "        # output(bs, sl, vocab_size)  hidden(2, bs, sl, hs)\n",
    "        output, hidden = my_net(inputs)\n",
    "\n",
    "        h, c = hidden\n",
    "        hidden = (h.detach(), c.detach())\n",
    "\n",
    "        logits = output.view(-1, vocab_size)  # (bs*sl, vocab_size)\n",
    "        target = targets.view(-1)\n",
    "\n",
    "        loss = loss_function(logits, target)\n",
    "        loss.backward()\n",
    "        optimzer.step()\n",
    "        \n",
    "        # 计算当前批次的损失和准确率\n",
    "        batch_loss = loss.item() * batch_size * seq_len\n",
    "        batch_correct = (torch.argmax(logits, dim=-1) == target).sum().item()\n",
    "        \n",
    "        # 累加到epoch总量中\n",
    "        epoch_loss += batch_loss\n",
    "        epoch_acc += batch_correct\n",
    "        \n",
    "        # 打印每10个批次的进度\n",
    "        if (i+1) % 10 == 0:\n",
    "            print(f'Epoch [{epoch+1}/{EPOCHES}], Batch [{i+1}/{len(data_loader)}], ' \n",
    "                  f'Loss: {batch_loss/(batch_size*seq_len):.4f}, Acc: {batch_correct/(batch_size*seq_len):.4f}')\n",
    "    \n",
    "    # 计算每个epoch的平均损失和准确率\n",
    "    epoch_loss /= samples_count\n",
    "    epoch_acc /= samples_count\n",
    "    total_loss += epoch_loss\n",
    "    total_acc += epoch_acc\n",
    "    \n",
    "    # 输出每个epoch的统计信息\n",
    "    print(f'Epoch {epoch+1}/{EPOCHES} - Loss: {epoch_loss:.4f}, Accuracy: {epoch_acc:.4f}')\n",
    "    print(f'Avg loss so far: {total_loss/(epoch+1):.4f}, Avg accuracy so far: {total_acc/(epoch+1):.4f}')\n",
    "    \n",
    "    # 记录训练日志\n",
    "    with open(RES_FILE, mode='a') as f:\n",
    "        f.write(f'\\nEpoch {epoch+1}/{EPOCHES}\\n')\n",
    "        f.write(f'Loss: {epoch_loss:.4f}, Accuracy: {epoch_acc:.4f}\\n')\n",
    "        f.write(f'Avg loss: {total_loss/(epoch+1):.4f}, Avg accuracy: {total_acc/(epoch+1):.4f}\\n')\n",
    "\n",
    "# 保存模型\n",
    "torch.save(my_net, \"model.h5\")"
   ]
  }
 ],
 "metadata": {
  "kernelspec": {
   "display_name": "dis-lmm",
   "language": "python",
   "name": "python3"
  },
  "language_info": {
   "codemirror_mode": {
    "name": "ipython",
    "version": 3
   },
   "file_extension": ".py",
   "mimetype": "text/x-python",
   "name": "python",
   "nbconvert_exporter": "python",
   "pygments_lexer": "ipython3",
   "version": "3.9.21"
  }
 },
 "nbformat": 4,
 "nbformat_minor": 5
}
