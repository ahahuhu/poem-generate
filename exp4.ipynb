{
 "cells": [
  {
   "cell_type": "markdown",
   "id": "8afeec7f",
   "metadata": {},
   "source": []
  },
  {
   "cell_type": "code",
   "execution_count": 7,
   "id": "9d5c66ee",
   "metadata": {},
   "outputs": [],
   "source": [
    "import numpy as np\n",
    "import torch\n",
    "import transformers\n",
    "import re"
   ]
  },
  {
   "cell_type": "code",
   "execution_count": 2,
   "id": "d4486286",
   "metadata": {},
   "outputs": [],
   "source": [
    "data = np.load(\"data/clear_data.npy\")"
   ]
  },
  {
   "cell_type": "code",
   "execution_count": 18,
   "id": "bc87ed0b",
   "metadata": {},
   "outputs": [],
   "source": [
    "hidden_poem_data = []\n",
    "for item in data:\n",
    "    sens = re.split(r'[,.，。！？]', item)\n",
    "    length = len(sens[0])\n",
    "    hidden_word = [word[0] if word else '' for word in sens]\n",
    "    hidden_poem_data.append(f'{length}{\"\".join(hidden_word)}->{item}')\n"
   ]
  },
  {
   "cell_type": "code",
   "execution_count": 19,
   "id": "7910ff2d",
   "metadata": {},
   "outputs": [],
   "source": [
    "np.save(\"data/hidden_poems.npy\", hidden_poem_data)"
   ]
  },
  {
   "cell_type": "code",
   "execution_count": null,
   "id": "11dd6685",
   "metadata": {},
   "outputs": [
    {
     "name": "stdout",
     "output_type": "stream",
     "text": [
      "['sadawwadawdawdaw', 'asdawwad', 'awdawdawd', 'awdawd', 'awd', 'awdawd', 'adawd', 'adawdaw']\n"
     ]
    }
   ],
   "source": []
  }
 ],
 "metadata": {
  "kernelspec": {
   "display_name": "poem-generate",
   "language": "python",
   "name": "python3"
  },
  "language_info": {
   "codemirror_mode": {
    "name": "ipython",
    "version": 3
   },
   "file_extension": ".py",
   "mimetype": "text/x-python",
   "name": "python",
   "nbconvert_exporter": "python",
   "pygments_lexer": "ipython3",
   "version": "3.10.16"
  }
 },
 "nbformat": 4,
 "nbformat_minor": 5
}
