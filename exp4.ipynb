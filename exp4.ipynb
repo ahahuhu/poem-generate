{
 "cells": [
  {
   "cell_type": "markdown",
   "id": "8afeec7f",
   "metadata": {},
   "source": []
  },
  {
   "cell_type": "code",
   "execution_count": 1,
   "id": "9d5c66ee",
   "metadata": {},
   "outputs": [
    {
     "name": "stderr",
     "output_type": "stream",
     "text": [
      "/home/wuwen/anaconda3/envs/poem-generate/lib/python3.10/site-packages/tqdm/auto.py:21: TqdmWarning: IProgress not found. Please update jupyter and ipywidgets. See https://ipywidgets.readthedocs.io/en/stable/user_install.html\n",
      "  from .autonotebook import tqdm as notebook_tqdm\n"
     ]
    }
   ],
   "source": [
    "import numpy as np\n",
    "import torch\n",
    "import transformers\n",
    "import re\n",
    "import sys"
   ]
  },
  {
   "cell_type": "code",
   "execution_count": 2,
   "id": "d4486286",
   "metadata": {},
   "outputs": [],
   "source": [
    "data = np.load(\"data/clear_data.npy\")"
   ]
  },
  {
   "cell_type": "code",
   "execution_count": null,
   "id": "bc87ed0b",
   "metadata": {},
   "outputs": [],
   "source": [
    "hidden_poem_data = []\n",
    "for item in data:\n",
    "    sens = re.split(r'[,.，。！？]', item)\n",
    "    length = len(sens[0])\n",
    "    hidden_word = [s[0] if s else '' for i, s in enumerate(sens) if i % 2 == 0]\n",
    "    hidden_poem_data.append(f'{length}{\"\".join(hidden_word)}->{item}')\n"
   ]
  },
  {
   "cell_type": "code",
   "execution_count": null,
   "id": "f48df909",
   "metadata": {},
   "outputs": [],
   "source": [
    "hidden_poem_data[1000]"
   ]
  },
  {
   "cell_type": "code",
   "execution_count": null,
   "id": "7910ff2d",
   "metadata": {},
   "outputs": [],
   "source": [
    "np.save(\"data/hidden_poems.npy\", hidden_poem_data)"
   ]
  },
  {
   "cell_type": "code",
   "execution_count": null,
   "id": "11dd6685",
   "metadata": {},
   "outputs": [],
   "source": [
    "candidate_texts = [\n",
    "    \"床 前 明 月 光\", # 模型生成的第一首诗\n",
    "    \"白 日 依 山 尽 黄 河 入 海 流\", # 模型生成的第二首诗\n",
    "    # ... 更多生成的诗\n",
    "]\n",
    "\n",
    "reference_texts = [\n",
    "    \"床 前 明 月 光 疑 是 地 上 霜\", # 对应的第一首参考诗\n",
    "    \"白 日 依 山 尽 黄 河 入 海 流 欲 穷 千 里 目 更 上 一 层 楼\", # 对应的第二首参考诗\n",
    "    # ... 更多参考诗\n",
    "]"
   ]
  },
  {
   "cell_type": "code",
   "execution_count": 3,
   "id": "0f177ccb",
   "metadata": {},
   "outputs": [
    {
     "ename": "ImportError",
     "evalue": "cannot import name 'Dataset' from 'datasets' (/home/wuwen/project_python/poem-generate/datasets.py)",
     "output_type": "error",
     "traceback": [
      "\u001b[0;31m---------------------------------------------------------------------------\u001b[0m",
      "\u001b[0;31mImportError\u001b[0m                               Traceback (most recent call last)",
      "Cell \u001b[0;32mIn[3], line 1\u001b[0m\n\u001b[0;32m----> 1\u001b[0m \u001b[38;5;28;01mimport\u001b[39;00m\u001b[38;5;250m \u001b[39m\u001b[38;5;21;01mevaluate\u001b[39;00m\n\u001b[1;32m      3\u001b[0m \u001b[38;5;66;03m# 加载 ROUGE 评估器\u001b[39;00m\n\u001b[1;32m      4\u001b[0m rouge_metric \u001b[38;5;241m=\u001b[39m evaluate\u001b[38;5;241m.\u001b[39mload(\u001b[38;5;124m'\u001b[39m\u001b[38;5;124mrouge\u001b[39m\u001b[38;5;124m'\u001b[39m)\n",
      "File \u001b[0;32m~/anaconda3/envs/poem-generate/lib/python3.10/site-packages/evaluate/__init__.py:29\u001b[0m\n\u001b[1;32m     25\u001b[0m SCRIPTS_VERSION \u001b[38;5;241m=\u001b[39m \u001b[38;5;124m\"\u001b[39m\u001b[38;5;124mmain\u001b[39m\u001b[38;5;124m\"\u001b[39m \u001b[38;5;28;01mif\u001b[39;00m version\u001b[38;5;241m.\u001b[39mparse(__version__)\u001b[38;5;241m.\u001b[39mis_devrelease \u001b[38;5;28;01melse\u001b[39;00m __version__\n\u001b[1;32m     27\u001b[0m \u001b[38;5;28;01mdel\u001b[39;00m version\n\u001b[0;32m---> 29\u001b[0m \u001b[38;5;28;01mfrom\u001b[39;00m\u001b[38;5;250m \u001b[39m\u001b[38;5;21;01m.\u001b[39;00m\u001b[38;5;21;01mevaluation_suite\u001b[39;00m\u001b[38;5;250m \u001b[39m\u001b[38;5;28;01mimport\u001b[39;00m EvaluationSuite\n\u001b[1;32m     30\u001b[0m \u001b[38;5;28;01mfrom\u001b[39;00m\u001b[38;5;250m \u001b[39m\u001b[38;5;21;01m.\u001b[39;00m\u001b[38;5;21;01mevaluator\u001b[39;00m\u001b[38;5;250m \u001b[39m\u001b[38;5;28;01mimport\u001b[39;00m (\n\u001b[1;32m     31\u001b[0m     AudioClassificationEvaluator,\n\u001b[1;32m     32\u001b[0m     AutomaticSpeechRecognitionEvaluator,\n\u001b[0;32m   (...)\u001b[0m\n\u001b[1;32m     42\u001b[0m     evaluator,\n\u001b[1;32m     43\u001b[0m )\n\u001b[1;32m     44\u001b[0m \u001b[38;5;28;01mfrom\u001b[39;00m\u001b[38;5;250m \u001b[39m\u001b[38;5;21;01m.\u001b[39;00m\u001b[38;5;21;01mhub\u001b[39;00m\u001b[38;5;250m \u001b[39m\u001b[38;5;28;01mimport\u001b[39;00m push_to_hub\n",
      "File \u001b[0;32m~/anaconda3/envs/poem-generate/lib/python3.10/site-packages/evaluate/evaluation_suite/__init__.py:7\u001b[0m\n\u001b[1;32m      4\u001b[0m \u001b[38;5;28;01mfrom\u001b[39;00m\u001b[38;5;250m \u001b[39m\u001b[38;5;21;01mpathlib\u001b[39;00m\u001b[38;5;250m \u001b[39m\u001b[38;5;28;01mimport\u001b[39;00m Path\n\u001b[1;32m      5\u001b[0m \u001b[38;5;28;01mfrom\u001b[39;00m\u001b[38;5;250m \u001b[39m\u001b[38;5;21;01mtyping\u001b[39;00m\u001b[38;5;250m \u001b[39m\u001b[38;5;28;01mimport\u001b[39;00m Callable, Dict, Optional, Union\n\u001b[0;32m----> 7\u001b[0m \u001b[38;5;28;01mfrom\u001b[39;00m\u001b[38;5;250m \u001b[39m\u001b[38;5;21;01mdatasets\u001b[39;00m\u001b[38;5;250m \u001b[39m\u001b[38;5;28;01mimport\u001b[39;00m Dataset, DownloadConfig, DownloadMode, load_dataset\n\u001b[1;32m      8\u001b[0m \u001b[38;5;28;01mfrom\u001b[39;00m\u001b[38;5;250m \u001b[39m\u001b[38;5;21;01mdatasets\u001b[39;00m\u001b[38;5;21;01m.\u001b[39;00m\u001b[38;5;21;01mutils\u001b[39;00m\u001b[38;5;21;01m.\u001b[39;00m\u001b[38;5;21;01mversion\u001b[39;00m\u001b[38;5;250m \u001b[39m\u001b[38;5;28;01mimport\u001b[39;00m Version\n\u001b[1;32m     10\u001b[0m \u001b[38;5;28;01mfrom\u001b[39;00m\u001b[38;5;250m \u001b[39m\u001b[38;5;21;01m.\u001b[39;00m\u001b[38;5;21;01m.\u001b[39;00m\u001b[38;5;21;01mevaluator\u001b[39;00m\u001b[38;5;250m \u001b[39m\u001b[38;5;28;01mimport\u001b[39;00m evaluator\n",
      "\u001b[0;31mImportError\u001b[0m: cannot import name 'Dataset' from 'datasets' (/home/wuwen/project_python/poem-generate/datasets.py)"
     ]
    }
   ],
   "source": [
    "import evaluate\n",
    "\n",
    "# 加载 ROUGE 评估器\n",
    "rouge_metric = evaluate.load('rouge')\n",
    "\n",
    "def char_tokenizer(text):\n",
    "    return list(text.replace(\" \", \"\")) # 移除所有空格，然后按字切分\n",
    "\n",
    "# 为了让 rouge_score 正确处理中文（即使是字级别），最好还是给它分好词的列表\n",
    "# 所以，我们将每个字作为列表中的一个元素\n",
    "tokenized_predictions_char = [[char for char in text.replace(\" \", \"\")] for text in candidate_texts]\n",
    "tokenized_references_char = [[char for char in text.replace(\" \", \"\")] for text in reference_texts]\n",
    "\n",
    "# 计算字级别 ROUGE\n",
    "# 注意：evaluate的rouge期望predictions是字符串列表，references是字符串列表或字符串列表的列表\n",
    "# 它内部会进行分词。我们可以通过 tokenizer 参数指定分词方式。\n",
    "# 如果不指定tokenizer，它会使用空格分词。对于没有空格的中文，每个字会变成一个token。\n",
    "\n",
    "print(\"--- 字级别 ROUGE ---\")\n",
    "results_char = rouge_metric.compute(\n",
    "    predictions=candidate_texts,\n",
    "    references=reference_texts,\n",
    "    tokenizer=char_tokenizer, \n",
    ")\n",
    "print(f\"字级别 ROUGE-1: {results_char['rouge1']:.4f}\") # 通常看 F1 分数\n",
    "print(f\"字级别 ROUGE-2: {results_char['rouge2']:.4f}\")\n",
    "print(results_char) # 打印详细结果，包含 precision, recall, fmeasure\n"
   ]
  },
  {
   "cell_type": "code",
   "execution_count": null,
   "id": "f3d40b3d",
   "metadata": {},
   "outputs": [],
   "source": [
    "data[0]"
   ]
  },
  {
   "cell_type": "code",
   "execution_count": 38,
   "id": "1784d8d0",
   "metadata": {},
   "outputs": [],
   "source": [
    "POEM_NUMBER = 100\n",
    "prompts1 = []\n",
    "prompts2 = []\n",
    "prompts3 = []\n",
    "candidate_texts = [] # 实际的诗歌\n",
    "reference_texts = []\n",
    "\n",
    "\n",
    "for item in data[:POEM_NUMBER]:\n",
    "    sens = re.split(r'[,.!，。！？]', item)\n",
    "    if len(sens) <3:\n",
    "        continue\n",
    "    prompts1.append(item[:len(sens[0])+1])\n",
    "    prompts2.append(item[:len(''.join(sens[:2]))+2])\n",
    "    prompts3.append(item[:len(''.join(sens[:3]))+3])\n",
    "    candidate_texts.append(item)"
   ]
  },
  {
   "cell_type": "code",
   "execution_count": null,
   "id": "edb54c7e",
   "metadata": {},
   "outputs": [],
   "source": [
    "i = 3\n",
    "print(prompts1[i])\n",
    "print(prompts2[i])\n",
    "print(prompts3[i])\n",
    "print(candidate_texts[i])"
   ]
  },
  {
   "cell_type": "code",
   "execution_count": null,
   "id": "b0a89cef",
   "metadata": {},
   "outputs": [
    {
     "name": "stdout",
     "output_type": "stream",
     "text": [
      "\n",
      "Trainable tensors: 200/200 (100.00%)\n",
      "Trainable parameters: 118906760/118906760 (100.00%)\n"
     ]
    },
    {
     "data": {
      "text/plain": [
       "PoemGPT(\n",
       "  (gpt): GPT2Model(\n",
       "    (word_embedding): Embedding(21128, 768, padding_idx=0)\n",
       "    (pos_embedding): Embedding(1024, 768)\n",
       "    (embed_dropout): Dropout(p=0.1, inplace=False)\n",
       "    (gpt_layers): ModuleList(\n",
       "      (0-11): 12 x GPT2Layer(\n",
       "        (self_attention): CausalSelfAttention(\n",
       "          (query): Linear(in_features=768, out_features=768, bias=True)\n",
       "          (key): Linear(in_features=768, out_features=768, bias=True)\n",
       "          (value): Linear(in_features=768, out_features=768, bias=True)\n",
       "          (dropout): Dropout(p=0.1, inplace=False)\n",
       "        )\n",
       "        (attention_dense): Linear(in_features=768, out_features=768, bias=True)\n",
       "        (attention_layer_norm): LayerNorm((768,), eps=1e-05, elementwise_affine=True)\n",
       "        (attention_dropout): Dropout(p=0.1, inplace=False)\n",
       "        (interm_dense): Linear(in_features=768, out_features=2304, bias=True)\n",
       "        (out_dense): Linear(in_features=2304, out_features=768, bias=True)\n",
       "        (out_layer_norm): LayerNorm((768,), eps=1e-05, elementwise_affine=True)\n",
       "        (out_dropout): Dropout(p=0.1, inplace=False)\n",
       "      )\n",
       "    )\n",
       "    (pooler_dense): Linear(in_features=768, out_features=768, bias=True)\n",
       "    (pooler_af): Tanh()\n",
       "    (final_layer_norm): LayerNorm((768,), eps=1e-05, elementwise_affine=True)\n",
       "  )\n",
       "  (vob_proj): Linear(in_features=768, out_features=21128, bias=True)\n",
       ")"
      ]
     },
     "execution_count": 36,
     "metadata": {},
     "output_type": "execute_result"
    }
   ],
   "source": [
    "greedy_poems = []\n",
    "beam_poems = []\n",
    "top_k_poems =[]\n",
    "top_p_poems = []\n",
    "\n",
    "\n",
    "device = torch.device('cuda')\n",
    "saved = torch.load(f'checkpoints/20_20-0.001-sonnet.pt', weights_only=False)\n",
    "tokenizer = BertTokenizer.from_pretrained(\"cache/bert-tokenizer\", local_files_only=True)\n",
    "model = PoemGPT(saved['args'], tokenizer)\n",
    "model.load_state_dict(saved['model'])\n",
    "model = model.to(device)\n",
    "model.eval()"
   ]
  },
  {
   "cell_type": "code",
   "execution_count": null,
   "id": "b634a39f",
   "metadata": {},
   "outputs": [],
   "source": [
    "for i in range(POEM_NUMBER):\n",
    "    encoding1 = tokenizer(prompts1[i], return_tensors='pt', padding=False, truncation=True).to(device) #(bs,sl) 词索引阶段\n",
    "    encoding2 = tokenizer(prompts2[i], return_tensors='pt', padding=False, truncation=True).to(device) #(bs,sl) 词索引阶段\n",
    "    encoding3 = tokenizer(prompts3[i], return_tensors='pt', padding=False, truncation=True).to(device) #(bs,sl) 词索引阶段\n",
    "    # 需要把toenizer后面添加的特殊Token [SEP] 去掉\n",
    "    # tok-k\n",
    "    t = []\n",
    "    token_ids1, generated_output1 = model.generate_top_k(encoding1['input_ids'][:, :-1],temperature=1.2,k_size=10)\n",
    "    token_ids2, generated_output2 = model.generate_top_k(encoding2['input_ids'][:, :-1],temperature=1.2,k_size=10)\n",
    "    token_ids3, generated_output3 = model.generate_top_k(encoding3['input_ids'][:, :-1],temperature=1.2,k_size=10)\n",
    "    top_k_poems.append([generated_output1, generated_output2, generated_output3])\n",
    "    # tok-q\n",
    "    token_ids, generated_output1 = model.generate_top_q(encoding1['input_ids'][:, :-1],temperature=1.2, top_p=0.9)\n",
    "    token_ids, generated_output2 = model.generate_top_q(encoding2['input_ids'][:, :-1],temperature=1.2, top_p=0.9)\n",
    "    token_ids, generated_output3 = model.generate_top_q(encoding3['input_ids'][:, :-1],temperature=1.2, top_p=0.9)\n",
    "    top_p_poems.append([generated_output1, generated_output2, generated_output3])\n",
    "    # greedy search\n",
    "    token_ids, generated_output1 = model.generate_greedy_search(encoding1['input_ids'][:, :-1])\n",
    "    token_ids, generated_output2 = model.generate_greedy_search(encoding2['input_ids'][:, :-1])\n",
    "    token_ids, generated_output3 = model.generate_greedy_search(encoding3['input_ids'][:, :-1])\n",
    "    greedy_poems.append([generated_output1, generated_output2, generated_output3])\n",
    "    # beam search\n",
    "    token_ids, generated_output1 = model.generate_beam_search(encoding1['input_ids'][:, :-1])\n",
    "    token_ids, generated_output2 = model.generate_beam_search(encoding2['input_ids'][:, :-1])\n",
    "    token_ids, generated_output3 = model.generate_beam_search(encoding3['input_ids'][:, :-1])\n",
    "    beam_poems.append([generated_output1, generated_output2, generated_output3])"
   ]
  }
 ],
 "metadata": {
  "kernelspec": {
   "display_name": "poem-generate",
   "language": "python",
   "name": "python3"
  },
  "language_info": {
   "codemirror_mode": {
    "name": "ipython",
    "version": 3
   },
   "file_extension": ".py",
   "mimetype": "text/x-python",
   "name": "python",
   "nbconvert_exporter": "python",
   "pygments_lexer": "ipython3",
   "version": "3.10.16"
  }
 },
 "nbformat": 4,
 "nbformat_minor": 5
}
