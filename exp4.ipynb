{
 "cells": [
  {
   "cell_type": "markdown",
   "id": "8afeec7f",
   "metadata": {},
   "source": []
  },
  {
   "cell_type": "code",
   "execution_count": 1,
   "id": "9d5c66ee",
   "metadata": {},
   "outputs": [
    {
     "name": "stderr",
     "output_type": "stream",
     "text": [
      "/home/wuwen/anaconda3/envs/poem-generate/lib/python3.10/site-packages/tqdm/auto.py:21: TqdmWarning: IProgress not found. Please update jupyter and ipywidgets. See https://ipywidgets.readthedocs.io/en/stable/user_install.html\n",
      "  from .autonotebook import tqdm as notebook_tqdm\n"
     ]
    }
   ],
   "source": [
    "import numpy as np\n",
    "import torch\n",
    "import transformers\n",
    "import re"
   ]
  },
  {
   "cell_type": "code",
   "execution_count": 2,
   "id": "d4486286",
   "metadata": {},
   "outputs": [],
   "source": [
    "data = np.load(\"data/clear_data.npy\")"
   ]
  },
  {
   "cell_type": "code",
   "execution_count": null,
   "id": "bc87ed0b",
   "metadata": {},
   "outputs": [],
   "source": [
    "hidden_poem_data = []\n",
    "for item in data:\n",
    "    sens = re.split(r'[,.，。！？]', item)\n",
    "    length = len(sens[0])\n",
    "    hidden_word = [s[0] if s else '' for i, s in enumerate(sens) if i % 2 == 0]\n",
    "    hidden_poem_data.append(f'{length}{\"\".join(hidden_word)}->{item}')\n"
   ]
  },
  {
   "cell_type": "code",
   "execution_count": 8,
   "id": "f48df909",
   "metadata": {},
   "outputs": [
    {
     "data": {
      "text/plain": [
       "'7轩明蛟欲->轩辕铸镜谁将去，曾被良工泻金取。明月心中桂不生，轻冰面上菱初吐。蛟龙久无雷雨声，鸞凤空踏莓苔舞。欲向高台对晓开，不知谁是孤光主。'"
      ]
     },
     "execution_count": 8,
     "metadata": {},
     "output_type": "execute_result"
    }
   ],
   "source": [
    "hidden_poem_data[1000]"
   ]
  },
  {
   "cell_type": "code",
   "execution_count": null,
   "id": "7910ff2d",
   "metadata": {},
   "outputs": [],
   "source": [
    "np.save(\"data/hidden_poems.npy\", hidden_poem_data)"
   ]
  },
  {
   "cell_type": "code",
   "execution_count": null,
   "id": "11dd6685",
   "metadata": {},
   "outputs": [
    {
     "name": "stdout",
     "output_type": "stream",
     "text": [
      "['sadawwadawdawdaw', 'asdawwad', 'awdawdawd', 'awdawd', 'awd', 'awdawd', 'adawd', 'adawdaw']\n"
     ]
    }
   ],
   "source": []
  }
 ],
 "metadata": {
  "kernelspec": {
   "display_name": "poem-generate",
   "language": "python",
   "name": "python3"
  },
  "language_info": {
   "codemirror_mode": {
    "name": "ipython",
    "version": 3
   },
   "file_extension": ".py",
   "mimetype": "text/x-python",
   "name": "python",
   "nbconvert_exporter": "python",
   "pygments_lexer": "ipython3",
   "version": "3.10.16"
  }
 },
 "nbformat": 4,
 "nbformat_minor": 5
}
